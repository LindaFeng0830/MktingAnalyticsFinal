{
 "cells": [
  {
   "cell_type": "markdown",
   "id": "a8d3b25d",
   "metadata": {},
   "source": [
    "# Import Packages and Dataset"
   ]
  },
  {
   "cell_type": "code",
   "execution_count": 55,
   "id": "fd975d22",
   "metadata": {},
   "outputs": [],
   "source": [
    "import pandas as pd\n",
    "import numpy as np\n",
    "from matplotlib import pyplot as plt\n",
    "from sklearn.cluster import KMeans\n",
    "from sklearn.metrics import silhouette_score\n",
    "from sklearn import model_selection\n",
    "import statsmodels.api as sm\n",
    "from sklearn.metrics import confusion_matrix\n",
    "import math\n",
    "import copy"
   ]
  },
  {
   "cell_type": "code",
   "execution_count": 56,
   "id": "1d27aa32",
   "metadata": {},
   "outputs": [],
   "source": [
    "import warnings\n",
    "warnings.filterwarnings(\"ignore\")"
   ]
  },
  {
   "cell_type": "code",
   "execution_count": 81,
   "id": "afbc528e",
   "metadata": {},
   "outputs": [],
   "source": [
    "# A subscriber data set, “subscribers”. Each record is a past or current subscriber to your service.\n",
    "df_subscribers = pd.read_csv(\"subscribers.csv\")\n",
    "\n",
    "# A customer service representative data set “customer_service_reps”. Each record is a\n",
    "# customer service representative who serves multiple subscribers.\n",
    "df_cs_reps = pd.read_pickle(\"customer_service_reps\")\n",
    "\n",
    "# A product usage data set, “engagement”. Each record is a measure of product\n",
    "# engagement for a given subscriber on a given date (if the subscriber had any\n",
    "# engagement on that date).\n",
    "df_engagement = pd.read_pickle(\"engagement\")\n",
    "\n",
    "# Advertising spend, “channel_spend_graduate”. Total spent per select channels per month.\n",
    "df_c_spend = pd.read_csv(\"channel_spend_graduate.csv\")"
   ]
  },
  {
   "cell_type": "markdown",
   "id": "220bf212",
   "metadata": {},
   "source": [
    "# Statement of Work"
   ]
  },
  {
   "cell_type": "markdown",
   "id": "73f5ac9f",
   "metadata": {},
   "source": [
    "####  Consultant will execute at least 2 marketing analyses of the following identified priorities:\n",
    "#### 1) Customer segmentation to help the marketing team design acquisition strategies supporting the Executive team’s growth objective; \n",
    "#### 2) Advertising channel spend efficiency and effectiveness, supporting the advertising team’s budget allocation for the upcoming quarter; and\n",
    "####  a churn model and develop recommendation(s) on an alternative product pricing structure.\n"
   ]
  },
  {
   "cell_type": "markdown",
   "id": "db5c1c5b",
   "metadata": {},
   "source": [
    "# Data Cleaning"
   ]
  },
  {
   "cell_type": "code",
   "execution_count": 82,
   "id": "1d1e6740",
   "metadata": {},
   "outputs": [],
   "source": [
    "# the variables I will be using for customer segmentation are:\n",
    "# subid, weekly_consumption_hour, preferred_genre, age, male_TF from df_subscriber\n",
    "# cust_service_mssgs, num_videos_completed, num_videos_rated, app_opens from df_engagement\n",
    "# therefore I will be cleaning these variables firstly"
   ]
  },
  {
   "cell_type": "code",
   "execution_count": 83,
   "id": "bd6527c5",
   "metadata": {},
   "outputs": [],
   "source": [
    "# drop abnormal age input that are lesser than 10 or greater than 100\n",
    "df_subscribers.drop(df_subscribers[(df_subscribers['age'] <= 10) | (df_subscribers['age'] >= 100)].index, \n",
    "                    inplace = True)\n",
    "\n",
    "# drop negative weekly consumption hour input\n",
    "df_subscribers.drop(df_subscribers[df_subscribers['weekly_consumption_hour'] < 0].index, \n",
    "                    inplace = True)"
   ]
  },
  {
   "cell_type": "code",
   "execution_count": 84,
   "id": "57c5dd82",
   "metadata": {},
   "outputs": [
    {
     "data": {
      "text/plain": [
       "array(['comedy', 'regional', 'drama', nan, 'other', 'international'],\n",
       "      dtype=object)"
      ]
     },
     "execution_count": 84,
     "metadata": {},
     "output_type": "execute_result"
    }
   ],
   "source": [
    "# check if there are abnormal values in variables\n",
    "# preferred_genre\n",
    "df_subscribers[\"preferred_genre\"].unique()"
   ]
  },
  {
   "cell_type": "code",
   "execution_count": 85,
   "id": "0e7b81f9",
   "metadata": {},
   "outputs": [
    {
     "data": {
      "text/plain": [
       "array([False, True, nan], dtype=object)"
      ]
     },
     "execution_count": 85,
     "metadata": {},
     "output_type": "execute_result"
    }
   ],
   "source": [
    "# check if there are abnormal values in variables\n",
    "# male_TF\n",
    "df_subscribers[\"male_TF\"].unique()"
   ]
  },
  {
   "cell_type": "code",
   "execution_count": 86,
   "id": "be36a265",
   "metadata": {},
   "outputs": [],
   "source": [
    "# make engagement subid unique\n",
    "df_engagement = df_engagement.groupby(\"subid\").agg(\"mean\")\n",
    "df_engagement = df_engagement.reset_index()"
   ]
  },
  {
   "cell_type": "code",
   "execution_count": 87,
   "id": "ab6ebb1c",
   "metadata": {},
   "outputs": [
    {
     "data": {
      "text/plain": [
       "array([0.75      , 1.        , 0.33333333, ..., 1.05405405, 0.85365854,\n",
       "       1.7972973 ])"
      ]
     },
     "execution_count": 87,
     "metadata": {},
     "output_type": "execute_result"
    }
   ],
   "source": [
    "# check if there are abnormal values in variables\n",
    "# cust_service_mssgs\n",
    "df_engagement[\"cust_service_mssgs\"].unique()"
   ]
  },
  {
   "cell_type": "code",
   "execution_count": 64,
   "id": "625c3b31",
   "metadata": {},
   "outputs": [
    {
     "data": {
      "text/plain": [
       "array([1.5       , 3.25      , 0.53333333, ..., 0.76811594, 2.25490196,\n",
       "       1.29333333])"
      ]
     },
     "execution_count": 64,
     "metadata": {},
     "output_type": "execute_result"
    }
   ],
   "source": [
    "# check if there are abnormal values in variables\n",
    "# num_videos_completed\n",
    "df_engagement[\"num_videos_completed\"].unique()"
   ]
  },
  {
   "cell_type": "code",
   "execution_count": 65,
   "id": "e5822f97",
   "metadata": {},
   "outputs": [
    {
     "data": {
      "text/plain": [
       "array([ 1.        ,  1.25      ,  0.93333333, ...,  5.97435897,\n",
       "       10.07692308, 14.19565217])"
      ]
     },
     "execution_count": 65,
     "metadata": {},
     "output_type": "execute_result"
    }
   ],
   "source": [
    "# check if there are abnormal values in variables\n",
    "# app_opens\n",
    "df_engagement[\"app_opens\"].unique()"
   ]
  },
  {
   "cell_type": "markdown",
   "id": "82125ef7",
   "metadata": {},
   "source": [
    "# Customer Segmentation"
   ]
  },
  {
   "cell_type": "code",
   "execution_count": 66,
   "id": "ff719a60",
   "metadata": {},
   "outputs": [],
   "source": [
    "# isolate for attributes that are important to customer segmentation:\n",
    "# subid, weekly_consumption_hour, preferred_genre, age, male_TF\n",
    "df_segment = df_subscribers[[\"subid\", \"weekly_consumption_hour\", \"preferred_genre\", \"age\", \"male_TF\"]]\n",
    "\n",
    "# merge cust_service_mssgs, num_videos_completed, num_videos_rated, app_opens from engagement.csv\n",
    "# into the segmentation dataset\n",
    "engage_working = df_engagement[[\"subid\", \"app_opens\", \"cust_service_mssgs\", \"num_videos_completed\", \"num_videos_rated\"]]\n",
    "df_segment = pd.merge(df_segment, engage_working, how=\"inner\", on=[\"subid\"])\n",
    "\n",
    "# drop all nans that were not dealt with in pre-processing\n",
    "df_segment.dropna(inplace = True)\n",
    "\n",
    "# get dummies on the categorical variables\n",
    "df_segment = pd.get_dummies(df_segment, columns=['preferred_genre', 'male_TF'])\n",
    "\n",
    "# set subid as index\n",
    "df_segment = df_segment.set_index('subid')\n",
    "\n",
    "# drop duplicates\n",
    "df_segment = df_segment.drop_duplicates()"
   ]
  },
  {
   "cell_type": "code",
   "execution_count": 67,
   "id": "6d331c29",
   "metadata": {},
   "outputs": [
    {
     "data": {
      "text/plain": [
       "[<matplotlib.lines.Line2D at 0x24786dbaaf0>]"
      ]
     },
     "execution_count": 67,
     "metadata": {},
     "output_type": "execute_result"
    },
    {
     "data": {
      "image/png": "[encoded data removed]",
      "text/plain": [
       "<Figure size 432x288 with 1 Axes>"
      ]
     },
     "metadata": {
      "needs_background": "light"
     },
     "output_type": "display_data"
    }
   ],
   "source": [
    "# kmean elbow test to determine optimal cluster number\n",
    "\n",
    "index = []\n",
    "inertia = []\n",
    "\n",
    "for i in range(14):\n",
    "    model = KMeans(n_clusters=i+1)\n",
    "    model.fit(df_segment.loc[:,:])\n",
    "    index.append(i+1)\n",
    "    inertia.append(model.inertia_)\n",
    "    \n",
    "plt.plot(index, inertia, '-o')"
   ]
  },
  {
   "cell_type": "code",
   "execution_count": 73,
   "id": "bbfacbb3",
   "metadata": {},
   "outputs": [],
   "source": [
    "# show cluster center\n",
    "kmeans_4 = KMeans(n_clusters=4).fit(df_segment.loc[:,:].values)\n",
    "\n",
    "k_4 = kmeans_4.cluster_centers_\n",
    "\n",
    "pd_k_4 = pd.DataFrame(k_4, columns=df_segment.columns)\n",
    "pd_k_4 = pd_k_4.round(3)\n",
    "#pd_k_4.to_csv('pd_k_4.csv')"
   ]
  },
  {
   "cell_type": "markdown",
   "id": "a2c109aa",
   "metadata": {},
   "source": [
    "# Attribution and Allocation"
   ]
  },
  {
   "cell_type": "code",
   "execution_count": 74,
   "id": "eb9a1bb4",
   "metadata": {},
   "outputs": [],
   "source": [
    "# CAC = total sales and marketing cost/total number of new customer"
   ]
  },
  {
   "cell_type": "code",
   "execution_count": 75,
   "id": "cb60c1d5",
   "metadata": {
    "scrolled": true
   },
   "outputs": [
    {
     "data": {
      "text/plain": [
       "['bing', 'display', 'facebook', 'search', 'youtube']"
      ]
     },
     "execution_count": 75,
     "metadata": {},
     "output_type": "execute_result"
    }
   ],
   "source": [
    "list(df_c_spend[\"channel\"].unique())"
   ]
  },
  {
   "cell_type": "code",
   "execution_count": 76,
   "id": "debf796e",
   "metadata": {},
   "outputs": [],
   "source": [
    "# isolate for columns of interests\n",
    "df_allocation = df_subscribers[[\"subid\", \"account_creation_date\", \"attribution_technical\", \"months_per_bill_period\", \"discount_price\", \"join_fee\"]]\n",
    "\n",
    "# modify the account_creation_date column so that it shows only the month\n",
    "# and rename the column\n",
    "df_allocation[\"account_creation_date\"] = df_allocation[\"account_creation_date\"].apply(lambda x: x[:8].replace(\"-\",\"\"))\n",
    "df_allocation.rename(columns={'account_creation_date' : 'account_creation_mo'}, inplace=True)\n",
    "\n",
    "# drop all nas\n",
    "df_allocation.dropna(inplace = True)"
   ]
  },
  {
   "cell_type": "code",
   "execution_count": 77,
   "id": "1a177b7d",
   "metadata": {},
   "outputs": [],
   "source": [
    "# isolate for data with channels that have spending data only\n",
    "bing = df_allocation.loc[df_allocation[\"attribution_technical\"] == \"bing\"]\n",
    "display = df_allocation.loc[df_allocation[\"attribution_technical\"] == \"display\"]\n",
    "facebook = df_allocation.loc[df_allocation[\"attribution_technical\"] == \"facebook\"]\n",
    "search = df_allocation.loc[df_allocation[\"attribution_technical\"] == \"search\"]\n",
    "youtube = df_allocation.loc[df_allocation[\"attribution_technical\"] == \"youtube\"]\n",
    "\n",
    "df_allocation = bing.append(display).append(facebook).append(search).append(youtube)\n",
    "df_allocation = df_allocation.reset_index()"
   ]
  },
  {
   "cell_type": "code",
   "execution_count": 78,
   "id": "de4bc9af",
   "metadata": {
    "scrolled": true
   },
   "outputs": [],
   "source": [
    "# count the number of users acquire through each channel\n",
    "new_cust = pd.DataFrame(df_allocation.groupby(\"attribution_technical\")[\"subid\"].agg(\"count\"))\n",
    "new_cust[\"spending\"] = df_c_spend.groupby(\"channel\")[\"spend_AED\"].agg(\"sum\")\n",
    "new_cust[\"CAC\"] = new_cust[\"spending\"]/new_cust[\"subid\"]"
   ]
  },
  {
   "cell_type": "code",
   "execution_count": 80,
   "id": "167251c8",
   "metadata": {},
   "outputs": [
    {
     "data": {
      "text/html": [
       "<div>\n",
       "<style scoped>\n",
       "    .dataframe tbody tr th:only-of-type {\n",
       "        vertical-align: middle;\n",
       "    }\n",
       "\n",
       "    .dataframe tbody tr th {\n",
       "        vertical-align: top;\n",
       "    }\n",
       "\n",
       "    .dataframe thead th {\n",
       "        text-align: right;\n",
       "    }\n",
       "</style>\n",
       "<table border=\"1\" class=\"dataframe\">\n",
       "  <thead>\n",
       "    <tr style=\"text-align: right;\">\n",
       "      <th></th>\n",
       "      <th>subid</th>\n",
       "      <th>spending</th>\n",
       "      <th>CAC</th>\n",
       "    </tr>\n",
       "    <tr>\n",
       "      <th>attribution_technical</th>\n",
       "      <th></th>\n",
       "      <th></th>\n",
       "      <th></th>\n",
       "    </tr>\n",
       "  </thead>\n",
       "  <tbody>\n",
       "    <tr>\n",
       "      <th>bing</th>\n",
       "      <td>1132</td>\n",
       "      <td>10800</td>\n",
       "      <td>9.540636</td>\n",
       "    </tr>\n",
       "    <tr>\n",
       "      <th>display</th>\n",
       "      <td>1391</td>\n",
       "      <td>366</td>\n",
       "      <td>0.263120</td>\n",
       "    </tr>\n",
       "    <tr>\n",
       "      <th>facebook</th>\n",
       "      <td>62775</td>\n",
       "      <td>113500</td>\n",
       "      <td>1.808045</td>\n",
       "    </tr>\n",
       "    <tr>\n",
       "      <th>search</th>\n",
       "      <td>22072</td>\n",
       "      <td>222500</td>\n",
       "      <td>10.080645</td>\n",
       "    </tr>\n",
       "    <tr>\n",
       "      <th>youtube</th>\n",
       "      <td>906</td>\n",
       "      <td>8730</td>\n",
       "      <td>9.635762</td>\n",
       "    </tr>\n",
       "  </tbody>\n",
       "</table>\n",
       "</div>"
      ],
      "text/plain": [
       "                       subid  spending        CAC\n",
       "attribution_technical                            \n",
       "bing                    1132     10800   9.540636\n",
       "display                 1391       366   0.263120\n",
       "facebook               62775    113500   1.808045\n",
       "search                 22072    222500  10.080645\n",
       "youtube                  906      8730   9.635762"
      ]
     },
     "execution_count": 80,
     "metadata": {},
     "output_type": "execute_result"
    }
   ],
   "source": [
    "new_cust\n",
    "#new_cust.to_csv('new_cust.csv')"
   ]
  },
  {
   "cell_type": "markdown",
   "id": "1e2d7ca5",
   "metadata": {},
   "source": [
    "# Churn"
   ]
  },
  {
   "cell_type": "code",
   "execution_count": 88,
   "id": "41a94e6b",
   "metadata": {},
   "outputs": [],
   "source": [
    "# ------ DEFINE FUNCTIONS -----\n",
    "def apply_offers(df, threshold, base_price, discount_amount, cases, acceptance_rate_churn, acceptance_rate_nonchurn):\n",
    "    df_f = copy.deepcopy(df)\n",
    "\n",
    "    # set offer parameters for all observations\n",
    "    df_f['price_no_offer'] = base_price\n",
    "    df_f.loc[df_f['churn_TF'] == 1, 'price_no_offer'] = 0  # if the person churns they will pay 0\n",
    "\n",
    "    # determine whether indiviudals accept offer\n",
    "    df_f.loc[df_f['churn_TF'] == 1, 'accept_offer_prob'] = acceptance_rate_churn  # those who were going to churn are less likely to want the offer than those who were going to stay\n",
    "    df_f.loc[df_f['churn_TF'] == 0, 'accept_offer_prob'] = acceptance_rate_nonchurn\n",
    "    df_f['would_accept_offer_rand_draw'] = (df_f['random_draws'] < df_f['accept_offer_prob'])  # randomly select the individuals who would accept an offer based on their probability of acceptance\n",
    "\n",
    "    # make offer under lpm predictions for select threshold\n",
    "    df_f['make_offer_lpm'] = (df_f['prob_churn_lpm'] > threshold)     # predict whether individual will churn or not\n",
    "    df_f['accept_offer_lpm'] = (df_f['make_offer_lpm'] & df_f['would_accept_offer_rand_draw'])\n",
    "    df_f['price_lpm_offer'] = df_f['price_no_offer']  # initialize prices from \"do nothing case\"\n",
    "    df_f.loc[df_f['accept_offer_lpm'], 'price_lpm_offer'] = base_price * (1-discount_amount)    # for those who were both made an offer and would accept, set prices to discounted price\n",
    "\n",
    "    # make offer under logit predictions for select threshold\n",
    "    df_f['make_offer_logit'] = (df_f['prob_churn_logit'] > threshold)     # predict whether individual will churn or not\n",
    "    df_f['accept_offer_logit'] = (df_f['make_offer_logit'] & df_f['would_accept_offer_rand_draw'])\n",
    "    df_f['price_logit_offer'] = df_f['price_no_offer']  # initialize prices from \"do nothing case\"\n",
    "    df_f.loc[df_f['accept_offer_logit'], 'price_logit_offer'] = base_price * (1-discount_amount)    # for those who were both made an offer and would accept, set prices to discounted price\n",
    "\n",
    "    df_impact = pd.DataFrame(index=cases, columns=['subs', 'revenue', 'lift_from_no_offer'])\n",
    "    for c in cases:\n",
    "        df_impact.loc[c, 'subs'] = (df_f['price_' + c] > 0).sum()\n",
    "        df_impact.loc[c, 'revenue'] = df_f['price_' + c].sum()\n",
    "    for c in cases:\n",
    "        df_impact.loc[c, 'lift_from_no_offer'] = df_impact.loc[c, 'revenue'] / df_impact.loc['no_offer', 'revenue'] - 1\n",
    "\n",
    "    return df_f, df_impact\n",
    "\n",
    "def get_gini_info(actual, pred_prob):\n",
    "    # format[[obs0_pred0, obs0_pred1], [obs1_pred0, obs1_pred1]]; rows (i) are observed, columns (j) are predicted\n",
    "    confusion_matrix_list = list()\n",
    "    for t in [x / 100 for x in range(0, 100, 33)]:\n",
    "        pred = [1 if (x > t) else 0 for x in pred_prob]\n",
    "        confusion_matrix_list.append(confusion_matrix(actual, pred))\n",
    "        # confusion_matrix_list.append(model.pred_table(threshold=t))\n",
    "\n",
    "    # create Gini coefficient plots\n",
    "    false_positives = list()\n",
    "    true_positives = list()\n",
    "    for t in confusion_matrix_list:\n",
    "        true_positives.append(t[1, 1])\n",
    "        false_positives.append(t[0, 1])\n",
    "\n",
    "    return confusion_matrix_list, false_positives, true_positives"
   ]
  },
  {
   "cell_type": "code",
   "execution_count": 90,
   "id": "2b5fb2af",
   "metadata": {},
   "outputs": [],
   "source": [
    "# subset the variables of interest from its respective datasets\n",
    "# df_subscribers: subid, weekly_consumption_hour, age, male_TF, cancel_date, current_sub_TF\n",
    "# df_engagement: subid, num_videos_completed, num_videos_rated, num_series_started, \n",
    "# and payment_period\n",
    "temp_sub = df_subscribers[[\"subid\", \n",
    "                           \"weekly_consumption_hour\", \"age\", \"male_TF\", \"payment_period\", \n",
    "                           \"trial_completed\", \"current_sub_TF\"]]\n",
    "temp_eng = df_engagement[[\"subid\",\n",
    "                          \"app_opens\", \"num_videos_completed\", \"num_videos_rated\", \"num_series_started\"]]\n",
    "\n",
    "# inner merge the subsets\n",
    "df_churn = pd.merge(temp_sub, temp_eng, on = \"subid\")"
   ]
  },
  {
   "cell_type": "code",
   "execution_count": 91,
   "id": "6aaf08ed",
   "metadata": {},
   "outputs": [],
   "source": [
    "# to identify whether a customer has churned\n",
    "# 1) if that user has not finished the trial, or\n",
    "# 2) if that user is not currently a subscriber\n",
    "\n",
    "df_churn[\"churn_TF\"] = ((df_churn[\"trial_completed\"] == False) | (df_churn[\"current_sub_TF\"] == False)) * 1\n",
    "df_churn[\"male_TF\"] = (df_churn[\"male_TF\"] == True) * 1"
   ]
  },
  {
   "cell_type": "code",
   "execution_count": 92,
   "id": "64951445",
   "metadata": {},
   "outputs": [],
   "source": [
    "# drop out the columns used for building churn_TF\n",
    "df_churn = df_churn.drop(['subid','current_sub_TF', \"trial_completed\"], axis=1)\n",
    "df_churn = df_churn.dropna(axis = 'index',how= 'any')\n",
    "# fill in the nas with mean\n",
    "#df_churn[\"age\"].fillna(value = df_churn[\"age\"].mean(), inplace = True)\n",
    "#df_churn[\"weekly_consumption_hour\"].fillna(value = df_churn[\"weekly_consumption_hour\"].mean(), inplace = True)\n",
    "#df_churn[\"num_videos_completed\"].fillna(value = df_churn[\"num_videos_completed\"].mean(), inplace = True)\n",
    "#df_churn[\"num_videos_rated\"].fillna(value = df_churn[\"num_videos_rated\"].mean(), inplace = True)\n",
    "#df_churn[\"num_series_started\"].fillna(value = df_churn[\"num_series_started\"].mean(), inplace = True)\n",
    "#df_churn[\"app_opens\"].fillna(value = df_churn[\"app_opens\"].mean(), inplace = True)\n",
    "#df_churn[\"cust_service_mssgs\"].fillna(value = df_churn[\"cust_service_mssgs\"].mean(), inplace = True)"
   ]
  },
  {
   "cell_type": "code",
   "execution_count": 93,
   "id": "d51a4475",
   "metadata": {},
   "outputs": [],
   "source": [
    "# train, test, split\n",
    "df_train, df_test = model_selection.train_test_split(df_churn, test_size = 0.3)"
   ]
  },
  {
   "cell_type": "code",
   "execution_count": 34,
   "id": "aece6141",
   "metadata": {},
   "outputs": [
    {
     "data": {
      "text/plain": [
       "Index(['weekly_consumption_hour', 'age', 'male_TF', 'payment_period',\n",
       "       'app_opens', 'num_videos_completed', 'num_videos_rated',\n",
       "       'num_series_started', 'churn_TF'],\n",
       "      dtype='object')"
      ]
     },
     "execution_count": 34,
     "metadata": {},
     "output_type": "execute_result"
    }
   ],
   "source": [
    "df_churn.columns"
   ]
  },
  {
   "cell_type": "code",
   "execution_count": 94,
   "id": "43d96db4",
   "metadata": {},
   "outputs": [],
   "source": [
    "# ----- FIT CHURN MODEL ------\n",
    "y_col_name = 'churn_TF' # specify which column contains outcome variable y. Needs to be coded as binary True/False or 0/1\n",
    "x_col_name = ['weekly_consumption_hour', 'age', 'male_TF', 'payment_period',\n",
    "       'app_opens', 'num_videos_completed', 'num_videos_rated',\n",
    "       'num_series_started'] # list of x covariates\n",
    "add_constant_TF = True"
   ]
  },
  {
   "cell_type": "code",
   "execution_count": 95,
   "id": "0819bebc",
   "metadata": {},
   "outputs": [],
   "source": [
    "# --- preprocess data for model routine format requirements\n",
    "if add_constant_TF:\n",
    "    x_col_name.append('const')\n",
    "    df_train = sm.add_constant(df_train)\n",
    "    df_test = sm.add_constant(df_test)"
   ]
  },
  {
   "cell_type": "code",
   "execution_count": 96,
   "id": "a6d967f3",
   "metadata": {},
   "outputs": [
    {
     "name": "stdout",
     "output_type": "stream",
     "text": [
      "\n",
      "RESULTS OF LOGIT MODEL FITTING\n",
      "\n",
      "                            OLS Regression Results                            \n",
      "==============================================================================\n",
      "Dep. Variable:               churn_TF   R-squared:                       0.568\n",
      "Model:                            OLS   Adj. R-squared:                  0.568\n",
      "Method:                 Least Squares   F-statistic:                 1.269e+04\n",
      "Date:                Mon, 13 Dec 2021   Prob (F-statistic):               0.00\n",
      "Time:                        23:10:38   Log-Likelihood:                -23517.\n",
      "No. Observations:               77312   AIC:                         4.705e+04\n",
      "Df Residuals:                   77303   BIC:                         4.714e+04\n",
      "Df Model:                           8                                         \n",
      "Covariance Type:            nonrobust                                         \n",
      "===========================================================================================\n",
      "                              coef    std err          t      P>|t|      [0.025      0.975]\n",
      "-------------------------------------------------------------------------------------------\n",
      "weekly_consumption_hour    -0.0033      0.000    -10.875      0.000      -0.004      -0.003\n",
      "age                         0.0023   8.97e-05     25.204      0.000       0.002       0.002\n",
      "male_TF                    -0.0188      0.004     -4.227      0.000      -0.027      -0.010\n",
      "payment_period             -0.4590      0.002   -298.646      0.000      -0.462      -0.456\n",
      "app_opens                  -0.0161      0.001    -18.815      0.000      -0.018      -0.014\n",
      "num_videos_completed       -0.0021      0.001     -2.349      0.019      -0.004      -0.000\n",
      "num_videos_rated            0.1266      0.018      7.053      0.000       0.091       0.162\n",
      "num_series_started          0.0390      0.004      9.429      0.000       0.031       0.047\n",
      "const                       0.8171      0.010     85.850      0.000       0.798       0.836\n",
      "==============================================================================\n",
      "Omnibus:                      545.946   Durbin-Watson:                   2.003\n",
      "Prob(Omnibus):                  0.000   Jarque-Bera (JB):              587.989\n",
      "Skew:                          -0.177   Prob(JB):                    2.09e-128\n",
      "Kurtosis:                       3.238   Cond. No.                         838.\n",
      "==============================================================================\n",
      "\n",
      "Notes:\n",
      "[1] Standard Errors assume that the covariance matrix of the errors is correctly specified.\n"
     ]
    }
   ],
   "source": [
    "# --- fit linear probability model\n",
    "lpm_model = sm.OLS(endog = df_train[y_col_name], exog = df_train[x_col_name])\n",
    "lpm_results = lpm_model.fit()\n",
    "print(\"\\nRESULTS OF LOGIT MODEL FITTING\\n\")\n",
    "print(lpm_results.summary())"
   ]
  },
  {
   "cell_type": "code",
   "execution_count": 97,
   "id": "00944091",
   "metadata": {},
   "outputs": [
    {
     "name": "stdout",
     "output_type": "stream",
     "text": [
      "Optimization terminated successfully.\n",
      "         Current function value: 0.285521\n",
      "         Iterations 7\n",
      "\n",
      "RESULTS OF LOGIT MODEL FITTING\n",
      "\n",
      "                           Logit Regression Results                           \n",
      "==============================================================================\n",
      "Dep. Variable:               churn_TF   No. Observations:                77312\n",
      "Model:                          Logit   Df Residuals:                    77303\n",
      "Method:                           MLE   Df Model:                            8\n",
      "Date:                Mon, 13 Dec 2021   Pseudo R-squ.:                  0.5867\n",
      "Time:                        23:10:43   Log-Likelihood:                -22074.\n",
      "converged:                       True   LL-Null:                       -53406.\n",
      "Covariance Type:            nonrobust   LLR p-value:                     0.000\n",
      "===========================================================================================\n",
      "                              coef    std err          z      P>|z|      [0.025      0.975]\n",
      "-------------------------------------------------------------------------------------------\n",
      "weekly_consumption_hour    -0.0230      0.003     -7.175      0.000      -0.029      -0.017\n",
      "age                         0.0164      0.001     17.219      0.000       0.015       0.018\n",
      "male_TF                    -0.2041      0.047     -4.347      0.000      -0.296      -0.112\n",
      "payment_period             -4.0272      0.025   -160.562      0.000      -4.076      -3.978\n",
      "app_opens                  -0.1179      0.009    -12.949      0.000      -0.136      -0.100\n",
      "num_videos_completed       -0.0068      0.010     -0.708      0.479      -0.026       0.012\n",
      "num_videos_rated            0.8703      0.195      4.473      0.000       0.489       1.252\n",
      "num_series_started          0.1712      0.044      3.883      0.000       0.085       0.258\n",
      "const                       2.3861      0.102     23.382      0.000       2.186       2.586\n",
      "===========================================================================================\n"
     ]
    }
   ],
   "source": [
    "# --- fit logistic regression\n",
    "logit_model = sm.Logit(endog=df_train[y_col_name], exog=df_train[x_col_name])\n",
    "logit_results = logit_model.fit()\n",
    "print(\"\\nRESULTS OF LOGIT MODEL FITTING\\n\")\n",
    "print(logit_results.summary())\n"
   ]
  },
  {
   "cell_type": "code",
   "execution_count": 98,
   "id": "1f2ebba8",
   "metadata": {},
   "outputs": [],
   "source": [
    "# ----- EVALUATE MODEL PERFORMANCE -----\n",
    "# --- evaluate model predictions on test set graphically\n",
    "df_test['prob_churn_lpm'] = lpm_results.predict(df_test[x_col_name])\n",
    "df_test['prob_churn_logit'] = logit_results.predict(df_test[x_col_name])"
   ]
  },
  {
   "cell_type": "code",
   "execution_count": 99,
   "id": "f6782aa7",
   "metadata": {},
   "outputs": [
    {
     "data": {
      "text/plain": [
       "<matplotlib.legend.Legend at 0x247ef1e8fa0>"
      ]
     },
     "execution_count": 99,
     "metadata": {},
     "output_type": "execute_result"
    },
    {
     "data": {
      "image/png": "[encoded data removed]",
      "text/plain": [
       "<Figure size 432x288 with 1 Axes>"
      ]
     },
     "metadata": {
      "needs_background": "light"
     },
     "output_type": "display_data"
    }
   ],
   "source": [
    "# compare lpm and logit predictions\n",
    "fig = plt.figure()\n",
    "ax = plt.gca()\n",
    "ax.plot(df_test[['prob_churn_lpm']], df_test[['churn_TF']], 'k.')\n",
    "ax.plot(df_test[['prob_churn_lpm']], df_test[['prob_churn_logit']], 'r.')\n",
    "plt.ylim(df_test[['prob_churn_lpm', 'prob_churn_logit']].min().min()-.05, df_test[['prob_churn_lpm', 'prob_churn_logit']].max().max()+.05)\n",
    "plt.xlim(ax.get_ylim())\n",
    "plt.title('LPM vs logit predictions')\n",
    "plt.xlabel('Linear Probability Model Prediction')\n",
    "plt.ylabel('Logit Model Prediction')\n",
    "fig.legend(labels=['Churn T/F (actual)', 'Linear probability model', 'Logit probability'])"
   ]
  },
  {
   "cell_type": "code",
   "execution_count": 100,
   "id": "6f49e3c5",
   "metadata": {},
   "outputs": [],
   "source": [
    "# --- evaluate model predictions using numerical quantification (ROC curves)\n",
    "# make confusion matrices\n",
    "logit_conf_mat, logit_false_positives, logit_true_positives = get_gini_info(df_test['churn_TF'], df_test['prob_churn_logit'])\n",
    "lpm_conf_mat, lpm_false_positives, lpm_true_positives = get_gini_info(df_test['churn_TF'], df_test['prob_churn_lpm'])"
   ]
  },
  {
   "cell_type": "code",
   "execution_count": 101,
   "id": "bf61c51b",
   "metadata": {},
   "outputs": [
    {
     "data": {
      "text/plain": [
       "<matplotlib.legend.Legend at 0x247e4007ee0>"
      ]
     },
     "execution_count": 101,
     "metadata": {},
     "output_type": "execute_result"
    },
    {
     "data": {
      "image/png": "[encoded data removed]",
      "text/plain": [
       "<Figure size 432x288 with 1 Axes>"
      ]
     },
     "metadata": {
      "needs_background": "light"
     },
     "output_type": "display_data"
    }
   ],
   "source": [
    "# plot ROC curves\n",
    "fig = plt.figure()\n",
    "ax1 = plt.gca()\n",
    "ax1.plot(lpm_false_positives, lpm_true_positives, 'b-')\n",
    "ax1.plot(logit_false_positives, logit_true_positives, 'r-')\n",
    "plt.title('ROC curves')\n",
    "plt.xlabel('False positives (positive=churn)')\n",
    "plt.ylabel('True positives (positive=churn)')\n",
    "plt.legend(labels=['Linear probability model', 'Logit probability'])\n"
   ]
  },
  {
   "cell_type": "code",
   "execution_count": 102,
   "id": "e38d3225",
   "metadata": {},
   "outputs": [],
   "source": [
    "# ----- TEST RETENTION OFFER SCENARIOS -----\n",
    "# evaluate the impact of an offer\n",
    "acceptance_rate_nonchurn = 1\n",
    "acceptance_rate_churn = 0.3\n",
    "threshold = 0.5\n",
    "base_price = 10\n",
    "discount_amount = 0.3\n",
    "cases = ['no_offer', 'lpm_offer', 'logit_offer']"
   ]
  },
  {
   "cell_type": "code",
   "execution_count": 103,
   "id": "7ce9f85c",
   "metadata": {},
   "outputs": [],
   "source": [
    "# draw whether individual would accept an offer or not - assume probability of acceptance is independent of offer attractiveness\n",
    "df_test['random_draws'] = np.random.random(df_test.shape[0])"
   ]
  },
  {
   "cell_type": "code",
   "execution_count": 104,
   "id": "68f8b7fd",
   "metadata": {},
   "outputs": [],
   "source": [
    "# base assessment\n",
    "df_test, df_impact = apply_offers(df_test, threshold, base_price, discount_amount, cases, acceptance_rate_churn, acceptance_rate_nonchurn)"
   ]
  },
  {
   "cell_type": "code",
   "execution_count": 105,
   "id": "9958dd2f",
   "metadata": {},
   "outputs": [],
   "source": [
    "# test sensitivity to thresholds\n",
    "df_lift_threshold = pd.DataFrame(index=range(0, 100, 1), columns=['threshold'] + cases)\n",
    "for t_ind in df_lift_threshold.index:\n",
    "    t_threshold = t_ind / 100\n",
    "    _, t_df_impact = apply_offers(df_test, t_threshold, base_price, discount_amount, cases, acceptance_rate_churn, acceptance_rate_nonchurn)\n",
    "\n",
    "    df_lift_threshold.loc[t_ind, 'threshold'] = t_threshold\n",
    "    df_lift_threshold.loc[t_ind, cases] = t_df_impact.loc[cases, 'lift_from_no_offer']\n",
    "del t_df_impact, t_threshold, t_ind"
   ]
  },
  {
   "cell_type": "code",
   "execution_count": 106,
   "id": "bdbd0d0a",
   "metadata": {},
   "outputs": [],
   "source": [
    "# test sensitivity to acceptance rate for churners\n",
    "df_lift_acceptance_rate_churn = pd.DataFrame(index=range(0, 100, 1), columns=['acceptance_rate_churn'] + cases)\n",
    "for t_ind in df_lift_acceptance_rate_churn.index:\n",
    "    t_acceptance_rate_churn = t_ind / 100\n",
    "    _, t_df_impact = apply_offers(df_test, threshold, base_price, discount_amount, cases, t_acceptance_rate_churn, acceptance_rate_nonchurn)\n",
    "\n",
    "    df_lift_acceptance_rate_churn.loc[t_ind, 'acceptance_rate_churn'] = t_acceptance_rate_churn\n",
    "    df_lift_acceptance_rate_churn.loc[t_ind, cases] = t_df_impact.loc[cases, 'lift_from_no_offer']\n",
    "del t_df_impact, t_acceptance_rate_churn, t_ind"
   ]
  },
  {
   "cell_type": "code",
   "execution_count": 107,
   "id": "4ef4927e",
   "metadata": {},
   "outputs": [],
   "source": [
    "# test sensitivity to offer discount amount\n",
    "df_lift_discount_amount = pd.DataFrame(index=range(0, 100, 1), columns=['discount_amount'] + cases)\n",
    "for t_ind in df_lift_discount_amount.index:\n",
    "    t_discount_amount = t_ind / 100\n",
    "    acceptance_rate_churn = t_discount_amount\n",
    "    _, t_df_impact = apply_offers(df_test, threshold, base_price, t_discount_amount, cases, acceptance_rate_churn, acceptance_rate_nonchurn)\n",
    "\n",
    "    df_lift_discount_amount.loc[t_ind, 'discount_amount'] = t_discount_amount\n",
    "    df_lift_discount_amount.loc[t_ind, cases] = t_df_impact.loc[cases, 'lift_from_no_offer']\n",
    "del t_df_impact, t_discount_amount, t_ind"
   ]
  },
  {
   "cell_type": "code",
   "execution_count": 108,
   "id": "8f6e39d6",
   "metadata": {},
   "outputs": [
    {
     "data": {
      "text/plain": [
       "<matplotlib.legend.Legend at 0x24780ff3340>"
      ]
     },
     "execution_count": 108,
     "metadata": {},
     "output_type": "execute_result"
    },
    {
     "data": {
      "image/png": "[encoded data removed]",
      "text/plain": [
       "<Figure size 432x288 with 1 Axes>"
      ]
     },
     "metadata": {
      "needs_background": "light"
     },
     "output_type": "display_data"
    }
   ],
   "source": [
    "# --- plot lift curves\n",
    "# Threshold sensitivity\n",
    "fig = plt.figure()\n",
    "ax1 = plt.gca()\n",
    "ax1.plot(df_lift_threshold['threshold'], df_lift_threshold['lpm_offer'], 'b-')\n",
    "ax1.plot(df_lift_threshold['threshold'], df_lift_threshold['logit_offer'], 'r-')\n",
    "plt.title('Lift curves')\n",
    "plt.xlabel('Threshold probability for predicting customer churns')\n",
    "plt.ylabel('Revenue lift from base scenario of making no retention offer')\n",
    "plt.legend(labels=['Linear probability model', 'Logit probability'])\n"
   ]
  },
  {
   "cell_type": "code",
   "execution_count": 50,
   "id": "e21f380e",
   "metadata": {},
   "outputs": [
    {
     "data": {
      "text/plain": [
       "<matplotlib.legend.Legend at 0x247d2f4c340>"
      ]
     },
     "execution_count": 50,
     "metadata": {},
     "output_type": "execute_result"
    },
    {
     "data": {
      "image/png": "[encoded data removed]",
      "text/plain": [
       "<Figure size 432x288 with 1 Axes>"
      ]
     },
     "metadata": {
      "needs_background": "light"
     },
     "output_type": "display_data"
    }
   ],
   "source": [
    "# Discount amount sensitivity\n",
    "fig = plt.figure()\n",
    "ax1 = plt.gca()\n",
    "ax1.plot(df_lift_discount_amount['discount_amount'], df_lift_discount_amount['lpm_offer'], 'b-')\n",
    "ax1.plot(df_lift_discount_amount['discount_amount'], df_lift_discount_amount['logit_offer'], 'r-')\n",
    "plt.title('Lift curves')\n",
    "plt.xlabel('Offer discount amount')\n",
    "plt.ylabel('Revenue lift from base scenario of making no retention offer')\n",
    "plt.legend(labels=['Linear probability model', 'Logit probability'])\n"
   ]
  },
  {
   "cell_type": "code",
   "execution_count": null,
   "id": "ea519d24",
   "metadata": {},
   "outputs": [],
   "source": []
  },
  {
   "cell_type": "code",
   "execution_count": null,
   "id": "6b0a0d94",
   "metadata": {},
   "outputs": [],
   "source": []
  },
  {
   "cell_type": "code",
   "execution_count": null,
   "id": "2bfa0ede",
   "metadata": {},
   "outputs": [],
   "source": []
  },
  {
   "cell_type": "code",
   "execution_count": null,
   "id": "7e364b80",
   "metadata": {},
   "outputs": [],
   "source": []
  },
  {
   "cell_type": "code",
   "execution_count": null,
   "id": "cee2a3c2",
   "metadata": {},
   "outputs": [],
   "source": []
  },
  {
   "cell_type": "code",
   "execution_count": null,
   "id": "0371b7c3",
   "metadata": {},
   "outputs": [],
   "source": []
  },
  {
   "cell_type": "code",
   "execution_count": null,
   "id": "8892ce57",
   "metadata": {},
   "outputs": [],
   "source": []
  }
 ],
 "metadata": {
  "kernelspec": {
   "display_name": "Python 3",
   "language": "python",
   "name": "python3"
  },
  "language_info": {
   "codemirror_mode": {
    "name": "ipython",
    "version": 3
   },
   "file_extension": ".py",
   "mimetype": "text/x-python",
   "name": "python",
   "nbconvert_exporter": "python",
   "pygments_lexer": "ipython3",
   "version": "3.8.8"
  }
 },
 "nbformat": 4,
 "nbformat_minor": 5
}
